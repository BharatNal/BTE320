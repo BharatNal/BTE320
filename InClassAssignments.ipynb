{
  "nbformat": 4,
  "nbformat_minor": 0,
  "metadata": {
    "colab": {
      "provenance": [],
      "authorship_tag": "ABX9TyMbHYl8illL0ZaKIe5hoOao",
      "include_colab_link": true
    },
    "kernelspec": {
      "name": "python3",
      "display_name": "Python 3"
    },
    "language_info": {
      "name": "python"
    }
  },
  "cells": [
    {
      "cell_type": "markdown",
      "metadata": {
        "id": "view-in-github",
        "colab_type": "text"
      },
      "source": [
        "<a href=\"https://colab.research.google.com/github/BharatNal/BTE320/blob/main/InClassAssignments.ipynb\" target=\"_parent\"><img src=\"https://colab.research.google.com/assets/colab-badge.svg\" alt=\"Open In Colab\"/></a>"
      ]
    },
    {
      "cell_type": "code",
      "execution_count": null,
      "metadata": {
        "colab": {
          "base_uri": "https://localhost:8080/"
        },
        "id": "bWVBpOvBFXe4",
        "outputId": "465bc4e5-bdcc-418f-bffc-d9e47417b0b0"
      },
      "outputs": [
        {
          "output_type": "stream",
          "name": "stdout",
          "text": [
            "Enter radius of cylinder: 3\n",
            "Enter height of cylinder: 10\n",
            "244.92000000000002\n"
          ]
        }
      ],
      "source": [
        "pi = 3.14\n",
        "r = float(input(\"Enter radius of cylinder: \")) # r = 3\n",
        "h = float(input(\"Enter height of cylinder: \")) # h = 10\n",
        "Area_cylinder = 2*pi*r*h+2*pi*r**2\n",
        "print(Area_cylinder)"
      ]
    },
    {
      "cell_type": "code",
      "source": [
        "p1 = input('Choose rock, paper or scissors: ')\n",
        "p2 = input('Choose rock, paper or scissors: ')\n",
        "\n",
        "if p1 == p2:\n",
        "  print('Draw')\n",
        "if p1 == 'rock' and p2 == 'paper':\n",
        "  print('Player 2 wins')\n",
        "if p1 == 'rock' and p2 == 'scissors':\n",
        "  print('Player 1 wins')\n",
        "if p1 == 'paper' and p2 == 'rock':\n",
        "  print('Player 1 wins')\n",
        "if p1 == 'paper' and p2 == 'scissors':\n",
        "  print('Player 2 wins')\n",
        "if p1 == 'scissors' and p2 == 'rock':\n",
        "  print('Player 2 wins')\n",
        "if p1 == 'scissors' and p2 == 'paper':\n",
        "  print('Player 1 wins')"
      ],
      "metadata": {
        "colab": {
          "base_uri": "https://localhost:8080/"
        },
        "id": "JE_039V_MHeI",
        "outputId": "96aabb2e-cd2c-48f4-fd77-c6eadb3325fb"
      },
      "execution_count": null,
      "outputs": [
        {
          "output_type": "stream",
          "name": "stdout",
          "text": [
            "Choose rock, paper or scissors: rock\n",
            "Choose rock, paper or scissors: rock\n",
            "Draw\n"
          ]
        }
      ]
    },
    {
      "cell_type": "code",
      "source": [
        "# shorter code for in class assignment 3\n",
        "p1 = input('Choose rock, paper or scissors: ')\n",
        "p2 = input('Choose rock, paper or scissors: ')\n",
        "\n",
        "if p1 == p2:\n",
        "  print('Draw')\n",
        "elif p1 == 'rock' and p2 == 'scissors' or p1 == 'scissors' and p2 == 'paper' or p1 == 'paper' and p2 == 'rock':\n",
        "  print('Player 1 wins')\n",
        "else:\n",
        "  print('Player 2 wins')"
      ],
      "metadata": {
        "id": "6MeK_d-_YYRO"
      },
      "execution_count": null,
      "outputs": []
    },
    {
      "cell_type": "code",
      "source": [
        "n1 = float(input('Enter first number: '))\n",
        "n2 = float(input('Enter second number: '))\n",
        "symbol = input('Enter operator (+, -, *, /, **): ')\n",
        "\n",
        "if symbol == '+':\n",
        "  print(n1+n2)\n",
        "elif symbol == '-':\n",
        "  print(n1-n2)\n",
        "elif symbol == '*':\n",
        "  print(n1*n2)\n",
        "elif symbol == '/':\n",
        "  print(n1/n2)\n",
        "elif symbol == '**':\n",
        "  print(n1**n2)"
      ],
      "metadata": {
        "colab": {
          "base_uri": "https://localhost:8080/"
        },
        "id": "_ONr0fisXy7f",
        "outputId": "55ecf932-6910-4f55-fa8e-ae04aed5066b"
      },
      "execution_count": 2,
      "outputs": [
        {
          "output_type": "stream",
          "name": "stdout",
          "text": [
            "Enter first number: 5\n",
            "Enter second number: 6\n",
            "Enter symbol: **\n",
            "15625.0\n"
          ]
        }
      ]
    }
  ]
}