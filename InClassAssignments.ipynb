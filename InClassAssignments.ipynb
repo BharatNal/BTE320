{
  "nbformat": 4,
  "nbformat_minor": 0,
  "metadata": {
    "colab": {
      "provenance": [],
      "authorship_tag": "ABX9TyN0XZBB/Mx6YDBaw9HZleBw",
      "include_colab_link": true
    },
    "kernelspec": {
      "name": "python3",
      "display_name": "Python 3"
    },
    "language_info": {
      "name": "python"
    }
  },
  "cells": [
    {
      "cell_type": "markdown",
      "metadata": {
        "id": "view-in-github",
        "colab_type": "text"
      },
      "source": [
        "<a href=\"https://colab.research.google.com/github/BharatNal/BTE320/blob/main/InClassAssignments.ipynb\" target=\"_parent\"><img src=\"https://colab.research.google.com/assets/colab-badge.svg\" alt=\"Open In Colab\"/></a>"
      ]
    },
    {
      "cell_type": "code",
      "execution_count": null,
      "metadata": {
        "colab": {
          "base_uri": "https://localhost:8080/"
        },
        "id": "bWVBpOvBFXe4",
        "outputId": "465bc4e5-bdcc-418f-bffc-d9e47417b0b0"
      },
      "outputs": [
        {
          "output_type": "stream",
          "name": "stdout",
          "text": [
            "Enter radius of cylinder: 3\n",
            "Enter height of cylinder: 10\n",
            "244.92000000000002\n"
          ]
        }
      ],
      "source": [
        "pi = 3.14\n",
        "r = float(input(\"Enter radius of cylinder: \")) # r = 3\n",
        "h = float(input(\"Enter height of cylinder: \")) # h = 10\n",
        "Area_cylinder = 2*pi*r*h+2*pi*r**2\n",
        "print(Area_cylinder)"
      ]
    },
    {
      "cell_type": "code",
      "source": [
        "p1 = input('Choose rock, paper or scissors: ')\n",
        "p2 = input('Choose rock, paper or scissors: ')\n",
        "\n",
        "if p1 == p2:\n",
        "  print('Draw')\n",
        "if p1 == 'rock' and p2 == 'paper':\n",
        "  print('Player 2 wins')\n",
        "if p1 == 'rock' and p2 == 'scissors':\n",
        "  print('Player 1 wins')\n",
        "if p1 == 'paper' and p2 == 'rock':\n",
        "  print('Player 1 wins')\n",
        "if p1 == 'paper' and p2 == 'scissors':\n",
        "  print('Player 2 wins')\n",
        "if p1 == 'scissors' and p2 == 'rock':\n",
        "  print('Player 2 wins')\n",
        "if p1 == 'scissors' and p2 == 'paper':\n",
        "  print('Player 1 wins')"
      ],
      "metadata": {
        "colab": {
          "base_uri": "https://localhost:8080/"
        },
        "id": "JE_039V_MHeI",
        "outputId": "96aabb2e-cd2c-48f4-fd77-c6eadb3325fb"
      },
      "execution_count": null,
      "outputs": [
        {
          "output_type": "stream",
          "name": "stdout",
          "text": [
            "Choose rock, paper or scissors: rock\n",
            "Choose rock, paper or scissors: rock\n",
            "Draw\n"
          ]
        }
      ]
    },
    {
      "cell_type": "code",
      "source": [
        "# shorter code for rock, paper, scissors\n",
        "import random\n",
        "choice = input('Do you want to play? ').lower()\n",
        "while choice == 'yes':\n",
        "  p1 = input('Choose rock, paper or scissors: ').lower()\n",
        "  p2 = random.choice(['rock', 'paper', 'scissors'])\n",
        "  print(f'Computer chose {p2}')\n",
        "  if p1 == p2:\n",
        "    print('Draw')\n",
        "  elif p1 == 'rock' and p2 == 'scissors' or p1 == 'scissors' and p2 == 'paper' or p1 == 'paper' and p2 == 'rock':\n",
        "    print('You win')\n",
        "  else:\n",
        "    print('Computer wins')\n",
        "  choice = input('Do you want to play again? ')"
      ],
      "metadata": {
        "id": "6MeK_d-_YYRO",
        "colab": {
          "base_uri": "https://localhost:8080/"
        },
        "outputId": "1eea11ea-4dc9-4c52-ea8d-f6023bbace51"
      },
      "execution_count": null,
      "outputs": [
        {
          "name": "stdout",
          "output_type": "stream",
          "text": [
            "Do you want to play? yes\n",
            "Choose rock, paper or scissors: rock\n",
            "Computer chose scissors\n",
            "You win\n",
            "Do you want to play again? no\n"
          ]
        }
      ]
    },
    {
      "cell_type": "code",
      "source": [
        "n1 = float(input('Enter first number: '))\n",
        "n2 = float(input('Enter second number: '))\n",
        "symbol = input('Enter operator (+, -, *, /, **): ')\n",
        "\n",
        "if symbol == '+':\n",
        "  print(n1+n2)\n",
        "elif symbol == '-':\n",
        "  print(n1-n2)\n",
        "elif symbol == '*':\n",
        "  print(n1*n2)\n",
        "elif symbol == '/':\n",
        "  print(n1/n2)\n",
        "elif symbol == '**':\n",
        "  print(n1**n2)"
      ],
      "metadata": {
        "colab": {
          "base_uri": "https://localhost:8080/"
        },
        "id": "_ONr0fisXy7f",
        "outputId": "55ecf932-6910-4f55-fa8e-ae04aed5066b"
      },
      "execution_count": null,
      "outputs": [
        {
          "output_type": "stream",
          "name": "stdout",
          "text": [
            "Enter first number: 5\n",
            "Enter second number: 6\n",
            "Enter symbol: **\n",
            "15625.0\n"
          ]
        }
      ]
    },
    {
      "cell_type": "code",
      "source": [
        "flatRate = 5\n",
        "hourlyRate = 2.5\n",
        "\n",
        "for hour in range(1, 9):\n",
        "  charge = flatRate + hourlyRate * hour\n",
        "  if charge < 10:\n",
        "    charge = 10.0\n",
        "  elif charge > 20:\n",
        "    charge = 20.0\n",
        "  print(hour, charge)"
      ],
      "metadata": {
        "colab": {
          "base_uri": "https://localhost:8080/"
        },
        "id": "XZG1IwTubU_U",
        "outputId": "e64a67a6-3fa4-46de-a404-14a0d417c063"
      },
      "execution_count": 31,
      "outputs": [
        {
          "output_type": "stream",
          "name": "stdout",
          "text": [
            "1 10.0\n",
            "2 10.0\n",
            "3 12.5\n",
            "4 15.0\n",
            "5 17.5\n",
            "6 20.0\n",
            "7 20.0\n",
            "8 20.0\n"
          ]
        }
      ]
    },
    {
      "cell_type": "code",
      "source": [
        "for ad in range(0, 201, 25):\n",
        "  additional = 2 * round(ad ** .5, 1)\n",
        "  profit = (20 + additional) * 10 - 200 - ad\n",
        "  print(ad, profit)"
      ],
      "metadata": {
        "colab": {
          "base_uri": "https://localhost:8080/"
        },
        "id": "C4w_v9Lbk6rd",
        "outputId": "fda37b5f-2e1f-45c0-df1e-513870d18e80"
      },
      "execution_count": 39,
      "outputs": [
        {
          "output_type": "stream",
          "name": "stdout",
          "text": [
            "0 0.0\n",
            "25 75.0\n",
            "50 92.0\n",
            "75 99.0\n",
            "100 100.0\n",
            "125 99.0\n",
            "150 94.0\n",
            "175 89.0\n",
            "200 82.0\n"
          ]
        }
      ]
    }
  ]
}