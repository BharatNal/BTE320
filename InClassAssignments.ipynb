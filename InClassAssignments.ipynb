{
  "nbformat": 4,
  "nbformat_minor": 0,
  "metadata": {
    "colab": {
      "provenance": [],
      "authorship_tag": "ABX9TyMcj1Pi/KFYao1GqcKv5o9s",
      "include_colab_link": true
    },
    "kernelspec": {
      "name": "python3",
      "display_name": "Python 3"
    },
    "language_info": {
      "name": "python"
    }
  },
  "cells": [
    {
      "cell_type": "markdown",
      "metadata": {
        "id": "view-in-github",
        "colab_type": "text"
      },
      "source": [
        "<a href=\"https://colab.research.google.com/github/BharatNal/BTE320/blob/main/InClassAssignments.ipynb\" target=\"_parent\"><img src=\"https://colab.research.google.com/assets/colab-badge.svg\" alt=\"Open In Colab\"/></a>"
      ]
    },
    {
      "cell_type": "code",
      "execution_count": null,
      "metadata": {
        "colab": {
          "base_uri": "https://localhost:8080/"
        },
        "id": "bWVBpOvBFXe4",
        "outputId": "465bc4e5-bdcc-418f-bffc-d9e47417b0b0"
      },
      "outputs": [
        {
          "output_type": "stream",
          "name": "stdout",
          "text": [
            "Enter radius of cylinder: 3\n",
            "Enter height of cylinder: 10\n",
            "244.92000000000002\n"
          ]
        }
      ],
      "source": [
        "#Shape area calculator\n",
        "pi = 3.14\n",
        "r = float(input(\"Enter radius of cylinder: \")) # r = 3\n",
        "h = float(input(\"Enter height of cylinder: \")) # h = 10\n",
        "Area_cylinder = 2*pi*r*h+2*pi*r**2\n",
        "print(Area_cylinder)"
      ]
    },
    {
      "cell_type": "code",
      "source": [
        "#Rock-paper-scissors (with the while loop)\n",
        "import random\n",
        "choice = input('Do you want to play? ').lower()\n",
        "while choice == 'yes':\n",
        "  p1 = input('Choose rock, paper or scissors: ').lower()\n",
        "  p2 = random.choice(['rock', 'paper', 'scissors'])\n",
        "  print(f'Computer chose {p2}')\n",
        "  if p1 == p2:\n",
        "    print('Draw')\n",
        "  elif p1 == 'rock' and p2 == 'scissors' or p1 == 'scissors' and p2 == 'paper' or p1 == 'paper' and p2 == 'rock':\n",
        "    print('You win')\n",
        "  else:\n",
        "    print('Computer wins')\n",
        "  choice = input('Do you want to play again? ')"
      ],
      "metadata": {
        "id": "6MeK_d-_YYRO",
        "colab": {
          "base_uri": "https://localhost:8080/"
        },
        "outputId": "1eea11ea-4dc9-4c52-ea8d-f6023bbace51"
      },
      "execution_count": null,
      "outputs": [
        {
          "name": "stdout",
          "output_type": "stream",
          "text": [
            "Do you want to play? yes\n",
            "Choose rock, paper or scissors: rock\n",
            "Computer chose scissors\n",
            "You win\n",
            "Do you want to play again? no\n"
          ]
        }
      ]
    },
    {
      "cell_type": "code",
      "source": [
        "#Numerical calculator\n",
        "n1 = float(input('Enter first number: '))\n",
        "n2 = float(input('Enter second number: '))\n",
        "symbol = input('Enter operator (+, -, *, /, **): ')\n",
        "\n",
        "if symbol == '+':\n",
        "  print(n1+n2)\n",
        "elif symbol == '-':\n",
        "  print(n1-n2)\n",
        "elif symbol == '*':\n",
        "  print(n1*n2)\n",
        "elif symbol == '/':\n",
        "  print(n1/n2)\n",
        "elif symbol == '**':\n",
        "  print(n1**n2)"
      ],
      "metadata": {
        "colab": {
          "base_uri": "https://localhost:8080/"
        },
        "id": "_ONr0fisXy7f",
        "outputId": "55ecf932-6910-4f55-fa8e-ae04aed5066b"
      },
      "execution_count": null,
      "outputs": [
        {
          "output_type": "stream",
          "name": "stdout",
          "text": [
            "Enter first number: 5\n",
            "Enter second number: 6\n",
            "Enter symbol: **\n",
            "15625.0\n"
          ]
        }
      ]
    },
    {
      "cell_type": "code",
      "source": [
        "#Parking garage\n",
        "flatRate = 5\n",
        "hourlyRate = 2.5\n",
        "\n",
        "for hour in range(1, 9):\n",
        "  charge = flatRate + hourlyRate * hour\n",
        "  if charge < 10:\n",
        "    charge = 10.0\n",
        "  elif charge > 20:\n",
        "    charge = 20.0\n",
        "  print(hour, charge)"
      ],
      "metadata": {
        "colab": {
          "base_uri": "https://localhost:8080/"
        },
        "id": "XZG1IwTubU_U",
        "outputId": "e64a67a6-3fa4-46de-a404-14a0d417c063"
      },
      "execution_count": null,
      "outputs": [
        {
          "output_type": "stream",
          "name": "stdout",
          "text": [
            "1 10.0\n",
            "2 10.0\n",
            "3 12.5\n",
            "4 15.0\n",
            "5 17.5\n",
            "6 20.0\n",
            "7 20.0\n",
            "8 20.0\n"
          ]
        }
      ]
    },
    {
      "cell_type": "code",
      "source": [
        "#Movie theater\n",
        "for ad in range(0, 201, 25):\n",
        "  additional = 2 * round(ad ** .5, 1)\n",
        "  profit = (20 + additional) * 10 - 200 - ad\n",
        "  print(ad, profit)"
      ],
      "metadata": {
        "colab": {
          "base_uri": "https://localhost:8080/"
        },
        "id": "C4w_v9Lbk6rd",
        "outputId": "fda37b5f-2e1f-45c0-df1e-513870d18e80"
      },
      "execution_count": null,
      "outputs": [
        {
          "output_type": "stream",
          "name": "stdout",
          "text": [
            "0 0.0\n",
            "25 75.0\n",
            "50 92.0\n",
            "75 99.0\n",
            "100 100.0\n",
            "125 99.0\n",
            "150 94.0\n",
            "175 89.0\n",
            "200 82.0\n"
          ]
        }
      ]
    },
    {
      "cell_type": "code",
      "source": [
        "#Months2Numbers dictionary\n",
        "months = {}\n",
        "\n",
        "names = ['Jan', 'Feb', 'Mar', 'Apr', 'May', 'Jun', 'Jul', 'Aug', 'Sep', 'Oct', 'Nov', 'Dec']\n",
        "numbers = [1,2,3,4,5,6,7,8,9,10,11,12]\n",
        "\n",
        "for i in numbers:\n",
        "  months[i] = names[i-1]\n",
        "print(months)"
      ],
      "metadata": {
        "colab": {
          "base_uri": "https://localhost:8080/"
        },
        "id": "fm6OtHHhWHjn",
        "outputId": "50e44743-25c1-49f7-ef7d-de5152f7afb5"
      },
      "execution_count": null,
      "outputs": [
        {
          "output_type": "stream",
          "name": "stdout",
          "text": [
            "{1: 'Jan', 2: 'Feb', 3: 'Mar', 4: 'Apr', 5: 'May', 6: 'Jun', 7: 'Jul', 8: 'Aug', 9: 'Sep', 10: 'Oct', 11: 'Nov', 12: 'Dec'}\n"
          ]
        }
      ]
    },
    {
      "cell_type": "code",
      "source": [
        "#house hunting + saving with raise\n",
        "annual_salary = float(input('Enter your annual salary: '))\n",
        "portion_saved = float(input('Enter the percent of your salary to save, as a decimal: '))\n",
        "total_cost = float(input('Enter the cost of your dream home: '))\n",
        "semi_annual_raise = float(input(\"Enter the semi-annual raise, as a decimal: \"))\n",
        "\n",
        "portion_down_payment = 0.25\n",
        "current_savings = 0\n",
        "r = 0.04\n",
        "months = 0\n",
        "\n",
        "down_payment = total_cost * portion_down_payment\n",
        "\n",
        "while current_savings < down_payment:\n",
        "    months += 1\n",
        "    current_savings += (annual_salary / 12) * portion_saved + (current_savings * r / 12)\n",
        "    if months % 6 == 0:\n",
        "        annual_salary += annual_salary * semi_annual_raise\n",
        "\n",
        "print(\"Number of months:\", months)"
      ],
      "metadata": {
        "id": "-E0RfbBeoiv1",
        "colab": {
          "base_uri": "https://localhost:8080/"
        },
        "outputId": "3d30b466-acec-49ac-978a-499f4874505f"
      },
      "execution_count": null,
      "outputs": [
        {
          "output_type": "stream",
          "name": "stdout",
          "text": [
            "Enter your annual salary: 100000\n",
            "Enter the percent of your salary to save, as a decimal: .2\n",
            "Enter the cost of your dream home: 1000000\n",
            "Enter the semi-annual raise, as a decimal: .05\n",
            "Number of months: 91\n"
          ]
        }
      ]
    },
    {
      "cell_type": "code",
      "source": [
        "#check if a number is within a range\n",
        "def range_check(num, low, high):\n",
        "  if num >= low and num <= high:\n",
        "    return True\n",
        "  else:\n",
        "    return False\n",
        "\n",
        "range_check(5, 2, 7)"
      ],
      "metadata": {
        "id": "wW1VU0DSpDMC",
        "colab": {
          "base_uri": "https://localhost:8080/"
        },
        "outputId": "fc55aca9-45ae-45dc-b1a3-97f47a7ac868"
      },
      "execution_count": null,
      "outputs": [
        {
          "output_type": "execute_result",
          "data": {
            "text/plain": [
              "True"
            ]
          },
          "metadata": {},
          "execution_count": 3
        }
      ]
    },
    {
      "cell_type": "code",
      "source": [
        "#parking garage with func\n",
        "def calcFee(hours, decimals=2):\n",
        "  fee = round(5 + 2.5 * hours, decimals)\n",
        "  return fee\n",
        "def displayFee(fee):\n",
        "  print('Parking fee: $', calcFee(hours))\n",
        "\n",
        "hours = float(input('Enter hours parked: '))\n",
        "displayFee(fee)"
      ],
      "metadata": {
        "colab": {
          "base_uri": "https://localhost:8080/"
        },
        "id": "CTGFRGzsdNCy",
        "outputId": "a0474688-65ae-46c9-b260-f5c75e76f575"
      },
      "execution_count": null,
      "outputs": [
        {
          "output_type": "stream",
          "name": "stdout",
          "text": [
            "Enter hours parked: 4\n",
            "Parking fee: $ 15.0\n"
          ]
        }
      ]
    },
    {
      "cell_type": "code",
      "source": [
        "#Reverse function (recursion)\n",
        "def rev(s):\n",
        "  if len(s) == 0:\n",
        "    return s\n",
        "  else:\n",
        "    return rev(s[1:]) + s[0]\n",
        "\n",
        "rev('hello')"
      ],
      "metadata": {
        "id": "DDc4SR4tklx0",
        "colab": {
          "base_uri": "https://localhost:8080/",
          "height": 35
        },
        "outputId": "b8728508-d57f-41f1-f530-c18f5386a1d2"
      },
      "execution_count": null,
      "outputs": [
        {
          "output_type": "execute_result",
          "data": {
            "text/plain": [
              "'olleh'"
            ],
            "application/vnd.google.colaboratory.intrinsic+json": {
              "type": "string"
            }
          },
          "metadata": {},
          "execution_count": 1
        }
      ]
    },
    {
      "cell_type": "code",
      "source": [
        "def wAvg(L, w):\n",
        "  res = []\n",
        "  try:\n",
        "    for i in range(len(L)):\n",
        "      res.append(L[i] * w[i])\n",
        "    return sum(res) / sum(w)\n",
        "  except ZeroDivisionError:\n",
        "    print('Division by zero')\n",
        "    return []\n",
        "  except TypeError:\n",
        "    print('Non-numerical objects found')\n",
        "    return []\n",
        "  except Exception as e:\n",
        "    print(f'Unknown error: {e}')\n",
        "    return float('nan')\n",
        "\n",
        "wAvg([1,2,3], [.1,.3,.4])"
      ],
      "metadata": {
        "colab": {
          "base_uri": "https://localhost:8080/"
        },
        "id": "X8LrmNly-4Ph",
        "outputId": "194e8230-839b-4cb3-fd91-0e7695218217"
      },
      "execution_count": null,
      "outputs": [
        {
          "output_type": "execute_result",
          "data": {
            "text/plain": [
              "2.375"
            ]
          },
          "metadata": {},
          "execution_count": 1
        }
      ]
    }
  ]
}